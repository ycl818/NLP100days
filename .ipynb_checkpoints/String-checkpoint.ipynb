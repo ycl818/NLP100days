{
 "cells": [
  {
   "cell_type": "code",
   "execution_count": null,
   "metadata": {},
   "outputs": [],
   "source": [
    "pratice_sentence = 'hello world'\n",
    "## format 用法之後會有詳細講解，這裡先了解會將後方字串放入{}即可\n",
    "print('原始字串: {}'.format(pratice_sentence))\n",
    "## 運用len()得到字串長度\n",
    "print('字串長度: {}'.format(len(pratice_sentence)))"
   ]
  },
  {
   "cell_type": "code",
   "execution_count": null,
   "metadata": {},
   "outputs": [],
   "source": [
    "print('取出前五個字: {}'.format(pratice_sentence[:5]))\n",
    "print('取出後五個字: {}'.format(pratice_sentence[-5:]))\n",
    "print('取出後中間五個字: {}'.format(pratice_sentence[5:10]))"
   ]
  },
  {
   "cell_type": "code",
   "execution_count": null,
   "metadata": {},
   "outputs": [],
   "source": [
    "all_review='wow... loved this place'\n",
    "\n",
    "print('原始字串1: {}'.format(all_review[0]))\n",
    "print('原始字串2: {}'.format(all_review[1]))\n",
    "##運用+符號可以直接合併兩字串\n",
    "all_review[0]+all_review[1]\n",
    "## 運用join function\n",
    "''.join((all_review[0],all_review[1]))\n",
    "## 加入separator\n",
    "'/'.join((all_review[0],all_review[1]),)"
   ]
  },
  {
   "cell_type": "code",
   "execution_count": 2,
   "metadata": {},
   "outputs": [
    {
     "name": "stdout",
     "output_type": "stream",
     "text": [
      "原始字串: hello world\n"
     ]
    },
    {
     "data": {
      "text/plain": [
       "True"
      ]
     },
     "execution_count": 2,
     "metadata": {},
     "output_type": "execute_result"
    }
   ],
   "source": [
    "pratice_sentence = 'hello world'\n",
    "print('原始字串: {}'.format(pratice_sentence))\n",
    "'I' not in pratice_sentence"
   ]
  },
  {
   "cell_type": "code",
   "execution_count": 3,
   "metadata": {},
   "outputs": [
    {
     "data": {
      "text/plain": [
       "False"
      ]
     },
     "execution_count": 3,
     "metadata": {},
     "output_type": "execute_result"
    }
   ],
   "source": [
    "'is' in pratice_sentence"
   ]
  },
  {
   "cell_type": "code",
   "execution_count": 4,
   "metadata": {},
   "outputs": [
    {
     "data": {
      "text/plain": [
       "True"
      ]
     },
     "execution_count": 4,
     "metadata": {},
     "output_type": "execute_result"
    }
   ],
   "source": [
    "'l' in pratice_sentence"
   ]
  },
  {
   "cell_type": "code",
   "execution_count": 5,
   "metadata": {},
   "outputs": [
    {
     "data": {
      "text/plain": [
       "True"
      ]
     },
     "execution_count": 5,
     "metadata": {},
     "output_type": "execute_result"
    }
   ],
   "source": [
    "'I' not in pratice_sentence"
   ]
  },
  {
   "cell_type": "code",
   "execution_count": null,
   "metadata": {},
   "outputs": [],
   "source": []
  }
 ],
 "metadata": {
  "kernelspec": {
   "display_name": "Python 3",
   "language": "python",
   "name": "python3"
  },
  "language_info": {
   "codemirror_mode": {
    "name": "ipython",
    "version": 3
   },
   "file_extension": ".py",
   "mimetype": "text/x-python",
   "name": "python",
   "nbconvert_exporter": "python",
   "pygments_lexer": "ipython3",
   "version": "3.8.3"
  }
 },
 "nbformat": 4,
 "nbformat_minor": 4
}
